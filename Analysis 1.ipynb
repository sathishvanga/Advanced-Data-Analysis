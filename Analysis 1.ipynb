{
 "cells": [
  {
   "cell_type": "markdown",
   "id": "91f8cb41",
   "metadata": {},
   "source": [
    "## Data Analysis_1\n",
    "\n",
    "* 1) Perform general Data analysis\n",
    "* 2) Can you tell me the Distribution of Vehicles based on Year of Registration with the help of a plot\n",
    "* 3) Create a plot based on the Variation of the price range by the vehicle type\n",
    "* 4) Find out Total count of vehicles by type available on ebay for sale.As well as create a visualization for the client\n",
    "* 5) Is there any relationship between dollar_price and kilometer? (Explain with appropriate analysis)\n"
   ]
  },
  {
   "cell_type": "markdown",
   "id": "59269519",
   "metadata": {},
   "source": [
    "**1) Perform general Data analysis**"
   ]
  },
  {
   "cell_type": "markdown",
   "id": "105cb7e3",
   "metadata": {},
   "source": [
    "### Importing the Libraries"
   ]
  },
  {
   "cell_type": "code",
   "execution_count": 49,
   "id": "546d300f",
   "metadata": {},
   "outputs": [],
   "source": [
    "import pandas as pd\n",
    "import numpy as np\n",
    "from scipy import stats as st\n",
    "import seaborn as sns\n",
    "from matplotlib import pyplot as plt\n"
   ]
  },
  {
   "cell_type": "markdown",
   "id": "036449b1",
   "metadata": {},
   "source": [
    "### Loading the Dataset"
   ]
  },
  {
   "cell_type": "code",
   "execution_count": 2,
   "id": "97bd3097",
   "metadata": {},
   "outputs": [],
   "source": [
    "df = pd.read_csv(r\"C:\\Users\\sathi\\Downloads\\autos.csv\",encoding='ISO-8859-1')"
   ]
  },
  {
   "cell_type": "code",
   "execution_count": 3,
   "id": "a1d1eb79",
   "metadata": {
    "scrolled": false
   },
   "outputs": [
    {
     "data": {
      "text/html": [
       "<div>\n",
       "<style scoped>\n",
       "    .dataframe tbody tr th:only-of-type {\n",
       "        vertical-align: middle;\n",
       "    }\n",
       "\n",
       "    .dataframe tbody tr th {\n",
       "        vertical-align: top;\n",
       "    }\n",
       "\n",
       "    .dataframe thead th {\n",
       "        text-align: right;\n",
       "    }\n",
       "</style>\n",
       "<table border=\"1\" class=\"dataframe\">\n",
       "  <thead>\n",
       "    <tr style=\"text-align: right;\">\n",
       "      <th></th>\n",
       "      <th>dateCrawled</th>\n",
       "      <th>name</th>\n",
       "      <th>seller</th>\n",
       "      <th>offerType</th>\n",
       "      <th>price</th>\n",
       "      <th>abtest</th>\n",
       "      <th>vehicleType</th>\n",
       "      <th>yearOfRegistration</th>\n",
       "      <th>gearbox</th>\n",
       "      <th>powerPS</th>\n",
       "      <th>model</th>\n",
       "      <th>kilometer</th>\n",
       "      <th>monthOfRegistration</th>\n",
       "      <th>fuelType</th>\n",
       "      <th>brand</th>\n",
       "      <th>notRepairedDamage</th>\n",
       "      <th>dateCreated</th>\n",
       "      <th>nrOfPictures</th>\n",
       "      <th>postalCode</th>\n",
       "      <th>lastSeen</th>\n",
       "    </tr>\n",
       "  </thead>\n",
       "  <tbody>\n",
       "    <tr>\n",
       "      <th>0</th>\n",
       "      <td>2016-03-24 11:52:17</td>\n",
       "      <td>Golf_3_1.6</td>\n",
       "      <td>privat</td>\n",
       "      <td>Angebot</td>\n",
       "      <td>480</td>\n",
       "      <td>test</td>\n",
       "      <td>NaN</td>\n",
       "      <td>1993</td>\n",
       "      <td>manuell</td>\n",
       "      <td>0</td>\n",
       "      <td>golf</td>\n",
       "      <td>150000</td>\n",
       "      <td>0</td>\n",
       "      <td>benzin</td>\n",
       "      <td>volkswagen</td>\n",
       "      <td>NaN</td>\n",
       "      <td>2016-03-24 00:00:00</td>\n",
       "      <td>0</td>\n",
       "      <td>70435</td>\n",
       "      <td>2016-04-07 03:16:57</td>\n",
       "    </tr>\n",
       "    <tr>\n",
       "      <th>1</th>\n",
       "      <td>2016-03-24 10:58:45</td>\n",
       "      <td>A5_Sportback_2.7_Tdi</td>\n",
       "      <td>privat</td>\n",
       "      <td>Angebot</td>\n",
       "      <td>18300</td>\n",
       "      <td>test</td>\n",
       "      <td>coupe</td>\n",
       "      <td>2011</td>\n",
       "      <td>manuell</td>\n",
       "      <td>190</td>\n",
       "      <td>NaN</td>\n",
       "      <td>125000</td>\n",
       "      <td>5</td>\n",
       "      <td>diesel</td>\n",
       "      <td>audi</td>\n",
       "      <td>ja</td>\n",
       "      <td>2016-03-24 00:00:00</td>\n",
       "      <td>0</td>\n",
       "      <td>66954</td>\n",
       "      <td>2016-04-07 01:46:50</td>\n",
       "    </tr>\n",
       "    <tr>\n",
       "      <th>2</th>\n",
       "      <td>2016-03-14 12:52:21</td>\n",
       "      <td>Jeep_Grand_Cherokee_\"Overland\"</td>\n",
       "      <td>privat</td>\n",
       "      <td>Angebot</td>\n",
       "      <td>9800</td>\n",
       "      <td>test</td>\n",
       "      <td>suv</td>\n",
       "      <td>2004</td>\n",
       "      <td>automatik</td>\n",
       "      <td>163</td>\n",
       "      <td>grand</td>\n",
       "      <td>125000</td>\n",
       "      <td>8</td>\n",
       "      <td>diesel</td>\n",
       "      <td>jeep</td>\n",
       "      <td>NaN</td>\n",
       "      <td>2016-03-14 00:00:00</td>\n",
       "      <td>0</td>\n",
       "      <td>90480</td>\n",
       "      <td>2016-04-05 12:47:46</td>\n",
       "    </tr>\n",
       "    <tr>\n",
       "      <th>3</th>\n",
       "      <td>2016-03-17 16:54:04</td>\n",
       "      <td>GOLF_4_1_4__3TÜRER</td>\n",
       "      <td>privat</td>\n",
       "      <td>Angebot</td>\n",
       "      <td>1500</td>\n",
       "      <td>test</td>\n",
       "      <td>kleinwagen</td>\n",
       "      <td>2001</td>\n",
       "      <td>manuell</td>\n",
       "      <td>75</td>\n",
       "      <td>golf</td>\n",
       "      <td>150000</td>\n",
       "      <td>6</td>\n",
       "      <td>benzin</td>\n",
       "      <td>volkswagen</td>\n",
       "      <td>nein</td>\n",
       "      <td>2016-03-17 00:00:00</td>\n",
       "      <td>0</td>\n",
       "      <td>91074</td>\n",
       "      <td>2016-03-17 17:40:17</td>\n",
       "    </tr>\n",
       "    <tr>\n",
       "      <th>4</th>\n",
       "      <td>2016-03-31 17:25:20</td>\n",
       "      <td>Skoda_Fabia_1.4_TDI_PD_Classic</td>\n",
       "      <td>privat</td>\n",
       "      <td>Angebot</td>\n",
       "      <td>3600</td>\n",
       "      <td>test</td>\n",
       "      <td>kleinwagen</td>\n",
       "      <td>2008</td>\n",
       "      <td>manuell</td>\n",
       "      <td>69</td>\n",
       "      <td>fabia</td>\n",
       "      <td>90000</td>\n",
       "      <td>7</td>\n",
       "      <td>diesel</td>\n",
       "      <td>skoda</td>\n",
       "      <td>nein</td>\n",
       "      <td>2016-03-31 00:00:00</td>\n",
       "      <td>0</td>\n",
       "      <td>60437</td>\n",
       "      <td>2016-04-06 10:17:21</td>\n",
       "    </tr>\n",
       "    <tr>\n",
       "      <th>...</th>\n",
       "      <td>...</td>\n",
       "      <td>...</td>\n",
       "      <td>...</td>\n",
       "      <td>...</td>\n",
       "      <td>...</td>\n",
       "      <td>...</td>\n",
       "      <td>...</td>\n",
       "      <td>...</td>\n",
       "      <td>...</td>\n",
       "      <td>...</td>\n",
       "      <td>...</td>\n",
       "      <td>...</td>\n",
       "      <td>...</td>\n",
       "      <td>...</td>\n",
       "      <td>...</td>\n",
       "      <td>...</td>\n",
       "      <td>...</td>\n",
       "      <td>...</td>\n",
       "      <td>...</td>\n",
       "      <td>...</td>\n",
       "    </tr>\n",
       "    <tr>\n",
       "      <th>371523</th>\n",
       "      <td>2016-03-14 17:48:27</td>\n",
       "      <td>Suche_t4___vito_ab_6_sitze</td>\n",
       "      <td>privat</td>\n",
       "      <td>Angebot</td>\n",
       "      <td>2200</td>\n",
       "      <td>test</td>\n",
       "      <td>NaN</td>\n",
       "      <td>2005</td>\n",
       "      <td>NaN</td>\n",
       "      <td>0</td>\n",
       "      <td>NaN</td>\n",
       "      <td>20000</td>\n",
       "      <td>1</td>\n",
       "      <td>NaN</td>\n",
       "      <td>sonstige_autos</td>\n",
       "      <td>NaN</td>\n",
       "      <td>2016-03-14 00:00:00</td>\n",
       "      <td>0</td>\n",
       "      <td>39576</td>\n",
       "      <td>2016-04-06 00:46:52</td>\n",
       "    </tr>\n",
       "    <tr>\n",
       "      <th>371524</th>\n",
       "      <td>2016-03-05 19:56:21</td>\n",
       "      <td>Smart_smart_leistungssteigerung_100ps</td>\n",
       "      <td>privat</td>\n",
       "      <td>Angebot</td>\n",
       "      <td>1199</td>\n",
       "      <td>test</td>\n",
       "      <td>cabrio</td>\n",
       "      <td>2000</td>\n",
       "      <td>automatik</td>\n",
       "      <td>101</td>\n",
       "      <td>fortwo</td>\n",
       "      <td>125000</td>\n",
       "      <td>3</td>\n",
       "      <td>benzin</td>\n",
       "      <td>smart</td>\n",
       "      <td>nein</td>\n",
       "      <td>2016-03-05 00:00:00</td>\n",
       "      <td>0</td>\n",
       "      <td>26135</td>\n",
       "      <td>2016-03-11 18:17:12</td>\n",
       "    </tr>\n",
       "    <tr>\n",
       "      <th>371525</th>\n",
       "      <td>2016-03-19 18:57:12</td>\n",
       "      <td>Volkswagen_Multivan_T4_TDI_7DC_UY2</td>\n",
       "      <td>privat</td>\n",
       "      <td>Angebot</td>\n",
       "      <td>9200</td>\n",
       "      <td>test</td>\n",
       "      <td>bus</td>\n",
       "      <td>1996</td>\n",
       "      <td>manuell</td>\n",
       "      <td>102</td>\n",
       "      <td>transporter</td>\n",
       "      <td>150000</td>\n",
       "      <td>3</td>\n",
       "      <td>diesel</td>\n",
       "      <td>volkswagen</td>\n",
       "      <td>nein</td>\n",
       "      <td>2016-03-19 00:00:00</td>\n",
       "      <td>0</td>\n",
       "      <td>87439</td>\n",
       "      <td>2016-04-07 07:15:26</td>\n",
       "    </tr>\n",
       "    <tr>\n",
       "      <th>371526</th>\n",
       "      <td>2016-03-20 19:41:08</td>\n",
       "      <td>VW_Golf_Kombi_1_9l_TDI</td>\n",
       "      <td>privat</td>\n",
       "      <td>Angebot</td>\n",
       "      <td>3400</td>\n",
       "      <td>test</td>\n",
       "      <td>kombi</td>\n",
       "      <td>2002</td>\n",
       "      <td>manuell</td>\n",
       "      <td>100</td>\n",
       "      <td>golf</td>\n",
       "      <td>150000</td>\n",
       "      <td>6</td>\n",
       "      <td>diesel</td>\n",
       "      <td>volkswagen</td>\n",
       "      <td>NaN</td>\n",
       "      <td>2016-03-20 00:00:00</td>\n",
       "      <td>0</td>\n",
       "      <td>40764</td>\n",
       "      <td>2016-03-24 12:45:21</td>\n",
       "    </tr>\n",
       "    <tr>\n",
       "      <th>371527</th>\n",
       "      <td>2016-03-07 19:39:19</td>\n",
       "      <td>BMW_M135i_vollausgestattet_NP_52.720____Euro</td>\n",
       "      <td>privat</td>\n",
       "      <td>Angebot</td>\n",
       "      <td>28990</td>\n",
       "      <td>control</td>\n",
       "      <td>limousine</td>\n",
       "      <td>2013</td>\n",
       "      <td>manuell</td>\n",
       "      <td>320</td>\n",
       "      <td>m_reihe</td>\n",
       "      <td>50000</td>\n",
       "      <td>8</td>\n",
       "      <td>benzin</td>\n",
       "      <td>bmw</td>\n",
       "      <td>nein</td>\n",
       "      <td>2016-03-07 00:00:00</td>\n",
       "      <td>0</td>\n",
       "      <td>73326</td>\n",
       "      <td>2016-03-22 03:17:10</td>\n",
       "    </tr>\n",
       "  </tbody>\n",
       "</table>\n",
       "<p>371528 rows × 20 columns</p>\n",
       "</div>"
      ],
      "text/plain": [
       "                dateCrawled                                          name  \\\n",
       "0       2016-03-24 11:52:17                                    Golf_3_1.6   \n",
       "1       2016-03-24 10:58:45                          A5_Sportback_2.7_Tdi   \n",
       "2       2016-03-14 12:52:21                Jeep_Grand_Cherokee_\"Overland\"   \n",
       "3       2016-03-17 16:54:04                            GOLF_4_1_4__3TÜRER   \n",
       "4       2016-03-31 17:25:20                Skoda_Fabia_1.4_TDI_PD_Classic   \n",
       "...                     ...                                           ...   \n",
       "371523  2016-03-14 17:48:27                    Suche_t4___vito_ab_6_sitze   \n",
       "371524  2016-03-05 19:56:21         Smart_smart_leistungssteigerung_100ps   \n",
       "371525  2016-03-19 18:57:12            Volkswagen_Multivan_T4_TDI_7DC_UY2   \n",
       "371526  2016-03-20 19:41:08                        VW_Golf_Kombi_1_9l_TDI   \n",
       "371527  2016-03-07 19:39:19  BMW_M135i_vollausgestattet_NP_52.720____Euro   \n",
       "\n",
       "        seller offerType  price   abtest vehicleType  yearOfRegistration  \\\n",
       "0       privat   Angebot    480     test         NaN                1993   \n",
       "1       privat   Angebot  18300     test       coupe                2011   \n",
       "2       privat   Angebot   9800     test         suv                2004   \n",
       "3       privat   Angebot   1500     test  kleinwagen                2001   \n",
       "4       privat   Angebot   3600     test  kleinwagen                2008   \n",
       "...        ...       ...    ...      ...         ...                 ...   \n",
       "371523  privat   Angebot   2200     test         NaN                2005   \n",
       "371524  privat   Angebot   1199     test      cabrio                2000   \n",
       "371525  privat   Angebot   9200     test         bus                1996   \n",
       "371526  privat   Angebot   3400     test       kombi                2002   \n",
       "371527  privat   Angebot  28990  control   limousine                2013   \n",
       "\n",
       "          gearbox  powerPS        model  kilometer  monthOfRegistration  \\\n",
       "0         manuell        0         golf     150000                    0   \n",
       "1         manuell      190          NaN     125000                    5   \n",
       "2       automatik      163        grand     125000                    8   \n",
       "3         manuell       75         golf     150000                    6   \n",
       "4         manuell       69        fabia      90000                    7   \n",
       "...           ...      ...          ...        ...                  ...   \n",
       "371523        NaN        0          NaN      20000                    1   \n",
       "371524  automatik      101       fortwo     125000                    3   \n",
       "371525    manuell      102  transporter     150000                    3   \n",
       "371526    manuell      100         golf     150000                    6   \n",
       "371527    manuell      320      m_reihe      50000                    8   \n",
       "\n",
       "       fuelType           brand notRepairedDamage          dateCreated  \\\n",
       "0        benzin      volkswagen               NaN  2016-03-24 00:00:00   \n",
       "1        diesel            audi                ja  2016-03-24 00:00:00   \n",
       "2        diesel            jeep               NaN  2016-03-14 00:00:00   \n",
       "3        benzin      volkswagen              nein  2016-03-17 00:00:00   \n",
       "4        diesel           skoda              nein  2016-03-31 00:00:00   \n",
       "...         ...             ...               ...                  ...   \n",
       "371523      NaN  sonstige_autos               NaN  2016-03-14 00:00:00   \n",
       "371524   benzin           smart              nein  2016-03-05 00:00:00   \n",
       "371525   diesel      volkswagen              nein  2016-03-19 00:00:00   \n",
       "371526   diesel      volkswagen               NaN  2016-03-20 00:00:00   \n",
       "371527   benzin             bmw              nein  2016-03-07 00:00:00   \n",
       "\n",
       "        nrOfPictures  postalCode             lastSeen  \n",
       "0                  0       70435  2016-04-07 03:16:57  \n",
       "1                  0       66954  2016-04-07 01:46:50  \n",
       "2                  0       90480  2016-04-05 12:47:46  \n",
       "3                  0       91074  2016-03-17 17:40:17  \n",
       "4                  0       60437  2016-04-06 10:17:21  \n",
       "...              ...         ...                  ...  \n",
       "371523             0       39576  2016-04-06 00:46:52  \n",
       "371524             0       26135  2016-03-11 18:17:12  \n",
       "371525             0       87439  2016-04-07 07:15:26  \n",
       "371526             0       40764  2016-03-24 12:45:21  \n",
       "371527             0       73326  2016-03-22 03:17:10  \n",
       "\n",
       "[371528 rows x 20 columns]"
      ]
     },
     "execution_count": 3,
     "metadata": {},
     "output_type": "execute_result"
    }
   ],
   "source": [
    "df"
   ]
  },
  {
   "cell_type": "markdown",
   "id": "4cd0e386",
   "metadata": {},
   "source": [
    "### Description About Features"
   ]
  },
  {
   "cell_type": "markdown",
   "id": "c4a5d01c",
   "metadata": {},
   "source": [
    "    dateCrawled: Date and time when the car listing was first crawled.\n",
    "    name: Name of the car.\n",
    "    seller: Indicates whether the seller is private or commercial.\n",
    "    offerType: Indicates whether the listing is an offer or a request.\n",
    "    price: Price of the car.\n",
    "    abtest: A/B test category.\n",
    "    vehicleType: Type of vehicle (e.g., coupe, SUV, etc.).\n",
    "    yearOfRegistration: Year the car was first registered.\n",
    "    gearbox: Type of gearbox (manual, automatic, etc.).\n",
    "    powerPS: Power of the car in PS.\n",
    "    model: Model of the car.\n",
    "    kilometer: The distance the car has been driven in kilometers.\n",
    "    monthOfRegistration: Month the car was registered.\n",
    "    fuelType: Type of fuel the car uses.\n",
    "    brand: Brand of the car.\n",
    "    notRepairedDamage: Indicates if the car has damage that is not yet repaired.\n",
    "    dateCreated: Date when the car listing was created.\n",
    "    nrOfPictures: Number of pictures in the ad.\n",
    "    postalCode: Postal code location of the vehicle.\n",
    "    lastSeen: Date and time the crawler saw this ad last online."
   ]
  },
  {
   "cell_type": "markdown",
   "id": "59e3814a",
   "metadata": {},
   "source": [
    "### Data Cleaning "
   ]
  },
  {
   "cell_type": "markdown",
   "id": "44dea047",
   "metadata": {},
   "source": [
    "    1.Structural Errors\n",
    "    2.Missing Values Detection\n",
    "    3.Outlier Detection\n",
    "    4.DataType Conversion\n",
    "    5.Duplicate Detection"
   ]
  },
  {
   "cell_type": "code",
   "execution_count": 11,
   "id": "184848ce",
   "metadata": {},
   "outputs": [
    {
     "data": {
      "text/html": [
       "<div>\n",
       "<style scoped>\n",
       "    .dataframe tbody tr th:only-of-type {\n",
       "        vertical-align: middle;\n",
       "    }\n",
       "\n",
       "    .dataframe tbody tr th {\n",
       "        vertical-align: top;\n",
       "    }\n",
       "\n",
       "    .dataframe thead th {\n",
       "        text-align: right;\n",
       "    }\n",
       "</style>\n",
       "<table border=\"1\" class=\"dataframe\">\n",
       "  <thead>\n",
       "    <tr style=\"text-align: right;\">\n",
       "      <th></th>\n",
       "      <th>Unique</th>\n",
       "      <th>Null</th>\n",
       "      <th>Null Perce</th>\n",
       "      <th>DataTypes</th>\n",
       "    </tr>\n",
       "  </thead>\n",
       "  <tbody>\n",
       "    <tr>\n",
       "      <th>dateCrawled</th>\n",
       "      <td>280500</td>\n",
       "      <td>0</td>\n",
       "      <td>0.000000</td>\n",
       "      <td>object</td>\n",
       "    </tr>\n",
       "    <tr>\n",
       "      <th>name</th>\n",
       "      <td>233531</td>\n",
       "      <td>0</td>\n",
       "      <td>0.000000</td>\n",
       "      <td>object</td>\n",
       "    </tr>\n",
       "    <tr>\n",
       "      <th>seller</th>\n",
       "      <td>2</td>\n",
       "      <td>0</td>\n",
       "      <td>0.000000</td>\n",
       "      <td>object</td>\n",
       "    </tr>\n",
       "    <tr>\n",
       "      <th>offerType</th>\n",
       "      <td>2</td>\n",
       "      <td>0</td>\n",
       "      <td>0.000000</td>\n",
       "      <td>object</td>\n",
       "    </tr>\n",
       "    <tr>\n",
       "      <th>price</th>\n",
       "      <td>5597</td>\n",
       "      <td>0</td>\n",
       "      <td>0.000000</td>\n",
       "      <td>int64</td>\n",
       "    </tr>\n",
       "    <tr>\n",
       "      <th>abtest</th>\n",
       "      <td>2</td>\n",
       "      <td>0</td>\n",
       "      <td>0.000000</td>\n",
       "      <td>object</td>\n",
       "    </tr>\n",
       "    <tr>\n",
       "      <th>vehicleType</th>\n",
       "      <td>8</td>\n",
       "      <td>37869</td>\n",
       "      <td>0.101928</td>\n",
       "      <td>object</td>\n",
       "    </tr>\n",
       "    <tr>\n",
       "      <th>yearOfRegistration</th>\n",
       "      <td>155</td>\n",
       "      <td>0</td>\n",
       "      <td>0.000000</td>\n",
       "      <td>int64</td>\n",
       "    </tr>\n",
       "    <tr>\n",
       "      <th>gearbox</th>\n",
       "      <td>2</td>\n",
       "      <td>20209</td>\n",
       "      <td>0.054394</td>\n",
       "      <td>object</td>\n",
       "    </tr>\n",
       "    <tr>\n",
       "      <th>powerPS</th>\n",
       "      <td>794</td>\n",
       "      <td>0</td>\n",
       "      <td>0.000000</td>\n",
       "      <td>int64</td>\n",
       "    </tr>\n",
       "    <tr>\n",
       "      <th>model</th>\n",
       "      <td>251</td>\n",
       "      <td>20484</td>\n",
       "      <td>0.055134</td>\n",
       "      <td>object</td>\n",
       "    </tr>\n",
       "    <tr>\n",
       "      <th>kilometer</th>\n",
       "      <td>13</td>\n",
       "      <td>0</td>\n",
       "      <td>0.000000</td>\n",
       "      <td>int64</td>\n",
       "    </tr>\n",
       "    <tr>\n",
       "      <th>monthOfRegistration</th>\n",
       "      <td>13</td>\n",
       "      <td>0</td>\n",
       "      <td>0.000000</td>\n",
       "      <td>int64</td>\n",
       "    </tr>\n",
       "    <tr>\n",
       "      <th>fuelType</th>\n",
       "      <td>7</td>\n",
       "      <td>33386</td>\n",
       "      <td>0.089861</td>\n",
       "      <td>object</td>\n",
       "    </tr>\n",
       "    <tr>\n",
       "      <th>brand</th>\n",
       "      <td>40</td>\n",
       "      <td>0</td>\n",
       "      <td>0.000000</td>\n",
       "      <td>object</td>\n",
       "    </tr>\n",
       "    <tr>\n",
       "      <th>notRepairedDamage</th>\n",
       "      <td>2</td>\n",
       "      <td>72060</td>\n",
       "      <td>0.193956</td>\n",
       "      <td>object</td>\n",
       "    </tr>\n",
       "    <tr>\n",
       "      <th>dateCreated</th>\n",
       "      <td>114</td>\n",
       "      <td>0</td>\n",
       "      <td>0.000000</td>\n",
       "      <td>object</td>\n",
       "    </tr>\n",
       "    <tr>\n",
       "      <th>nrOfPictures</th>\n",
       "      <td>1</td>\n",
       "      <td>0</td>\n",
       "      <td>0.000000</td>\n",
       "      <td>int64</td>\n",
       "    </tr>\n",
       "    <tr>\n",
       "      <th>postalCode</th>\n",
       "      <td>8150</td>\n",
       "      <td>0</td>\n",
       "      <td>0.000000</td>\n",
       "      <td>int64</td>\n",
       "    </tr>\n",
       "    <tr>\n",
       "      <th>lastSeen</th>\n",
       "      <td>182806</td>\n",
       "      <td>0</td>\n",
       "      <td>0.000000</td>\n",
       "      <td>object</td>\n",
       "    </tr>\n",
       "  </tbody>\n",
       "</table>\n",
       "</div>"
      ],
      "text/plain": [
       "                     Unique   Null  Null Perce DataTypes\n",
       "dateCrawled          280500      0    0.000000    object\n",
       "name                 233531      0    0.000000    object\n",
       "seller                    2      0    0.000000    object\n",
       "offerType                 2      0    0.000000    object\n",
       "price                  5597      0    0.000000     int64\n",
       "abtest                    2      0    0.000000    object\n",
       "vehicleType               8  37869    0.101928    object\n",
       "yearOfRegistration      155      0    0.000000     int64\n",
       "gearbox                   2  20209    0.054394    object\n",
       "powerPS                 794      0    0.000000     int64\n",
       "model                   251  20484    0.055134    object\n",
       "kilometer                13      0    0.000000     int64\n",
       "monthOfRegistration      13      0    0.000000     int64\n",
       "fuelType                  7  33386    0.089861    object\n",
       "brand                    40      0    0.000000    object\n",
       "notRepairedDamage         2  72060    0.193956    object\n",
       "dateCreated             114      0    0.000000    object\n",
       "nrOfPictures              1      0    0.000000     int64\n",
       "postalCode             8150      0    0.000000     int64\n",
       "lastSeen             182806      0    0.000000    object"
      ]
     },
     "execution_count": 11,
     "metadata": {},
     "output_type": "execute_result"
    }
   ],
   "source": [
    "d = pd.DataFrame({\n",
    "    'Unique':df.nunique(),\n",
    "    'Null':df.isna().sum(),\n",
    "    'Null Perce':df.isna().sum() / len(df),\n",
    "    'DataTypes':df.dtypes.values\n",
    "})\n",
    "d"
   ]
  },
  {
   "cell_type": "markdown",
   "id": "86dcd1d1",
   "metadata": {},
   "source": [
    "### Checking the Structural Errors"
   ]
  },
  {
   "cell_type": "code",
   "execution_count": 13,
   "id": "66c5487d",
   "metadata": {},
   "outputs": [
    {
     "name": "stdout",
     "output_type": "stream",
     "text": [
      "dateCrawled \n",
      " ['2016-03-24 11:52:17' '2016-03-24 10:58:45' '2016-03-14 12:52:21' ...\n",
      " '2016-03-14 17:48:27' '2016-03-19 18:57:12' '2016-03-07 19:39:19']\n",
      "name \n",
      " ['Golf_3_1.6' 'A5_Sportback_2.7_Tdi' 'Jeep_Grand_Cherokee_\"Overland\"' ...\n",
      " 'Smart_smart_leistungssteigerung_100ps' 'VW_Golf_Kombi_1_9l_TDI'\n",
      " 'BMW_M135i_vollausgestattet_NP_52.720____Euro']\n",
      "seller \n",
      " ['privat' 'gewerblich']\n",
      "offerType \n",
      " ['Angebot' 'Gesuch']\n",
      "price \n",
      " [  480 18300  9800 ... 18429 24895 10985]\n",
      "abtest \n",
      " ['test' 'control']\n",
      "vehicleType \n",
      " [nan 'coupe' 'suv' 'kleinwagen' 'limousine' 'cabrio' 'bus' 'kombi'\n",
      " 'andere']\n",
      "yearOfRegistration \n",
      " [1993 2011 2004 2001 2008 1995 1980 2014 1998 2005 1910 2016 2007 2009\n",
      " 2002 2018 1997 1990 2017 1981 2003 1994 1991 1984 2006 1999 2012 2010\n",
      " 2000 1992 2013 1996 1985 1989 2015 1968 1982 1976 1983 1959 1973 1111\n",
      " 1969 1971 1987 1986 1988 1967 1970 1965 1945 1925 1974 1979 1955 1978\n",
      " 1972 1977 1961 1963 1964 1960 1966 1975 1937 1936 5000 1954 1958 9999\n",
      " 1956 3200 1000 1933 1941 1962 8888 1500 2200 4100 1929 1951 1957 1940\n",
      " 3000 2066 1949 2019 1800 1953 1935 1234 8000 5300 9000 2900 6000 5900\n",
      " 5911 1400 1950 4000 1948 1952 1200 8500 1932 1255 1927 1923 1931 3700\n",
      " 3800 4800 1942 7000 1911 6500 2290 2500 1930 1001 6200 9450 1944 1943\n",
      " 1947 1934 1938 1688 2800 1253 1928 7500 1919 5555 7777 5600 1600 1939\n",
      " 2222 1039 9996 1300 8455 1915 4500 1920 1602 7800 9229 1946 7100 8200\n",
      " 3500]\n",
      "gearbox \n",
      " ['manuell' 'automatik' nan]\n",
      "powerPS \n",
      " [    0   190   163    75    69   102   109    50   125   101   105   140\n",
      "   115   131    60   136   160   231    90   118   193    99   113   218\n",
      "   122   129    70   306    95    61   177    80   170    55   143    64\n",
      "   286   232   150   156    82   204   155    54   185    87   180    86\n",
      "    84   303   224   235   200   178   265    77   110   144   120   116\n",
      "   184   126    88   194   305   197   179   250    45   313    41   165\n",
      "    98   130   114   211    56   326   201   213    58   107    83   174\n",
      "   100   220    85    73   192    68    66   299    74    52   510   147\n",
      "    65   310    71    97   239   295   203     5   300   103   245   258\n",
      "   292   320    63    81   148   354    44   145   230   280   260   457\n",
      "   104   409   188   333   186   117   141    59   132   234   158    39\n",
      "   272    92    51   135    53   435   209    43   146    67   106   166\n",
      "   276   344   349    72   249   237   111   279    23   138   256   175\n",
      "    96   226    26    37   301   334   128   133   124    33   219   241\n",
      "   167    94   182   196   238   277  1398   505   228   112    48   139\n",
      "  1799    40   240    79   360   243   375   252   396   340   108   121\n",
      "   380   345   187   666   289   222   315   198   284   450   233   387\n",
      "   152   347   172    57   137   212   476   314    30     7    47   173\n",
      "   215   370   290   207   385   205   171   750    78    91    89   325\n",
      "    76   151   420   350   953    93   142   500   343   199   119   164\n",
      "    16   264   367   298   208   210   408   275    46  1001   381   225\n",
      "   127   400   176   514   161   603   307    35   268   206   771   355\n",
      "   487   416   273   507   223   255   123   154   149  7515  1400   620\n",
      "   266   480   169    34     2   242  1779   285   162   328  1753   329\n",
      "   134   483   330   247   492   168 10317    18   283    62    10   432\n",
      "   214   183   254   678    15   321   322   430   952   513   600   181\n",
      "   388   426   271   599   439   462   364   379   449   519   999   373\n",
      "    22   157    42   195   553    38     4   485   309   440   401   189\n",
      "  1111  2729    21   587   236  1240  1704   521     1  1900   270    24\n",
      "   159   570   808   515   374  1200    29   382  1993    14   216   610\n",
      "   504    49   267   331   363   261  1011   253   696 10520   549   376\n",
      "   377   227   421   311    27   585   551   579   415   217    20   751\n",
      "   530  1999    11   581   352  1056    25   394    12   560   555   405\n",
      "   296   495  1659   294   390   517  6920   246   327    17  1800  1625\n",
      "   368   489   371   221  1367   259   606  2017  1597   520   392     9\n",
      "   540   630   443   572    13   262   601     8   963   411   900   460\n",
      "   541  7512 10218  7544   559  1102   287    19   525   441   297   557\n",
      "  1090    28   475   436   282   602     6  1000 17322  5411   335  1360\n",
      "   202  3750   632   805  1062  1024 11530  1796  5000   269   506  1002\n",
      "   466   288   721  1780 12012   650   700 17932   316  2005  1399   191\n",
      "  9999   502   278  1300   431   257   544  1256   580   153   353   455\n",
      "  1653   674   281 12510   362     3  1500   386    32  1202  2016  1436\n",
      "  1405   434   671   274   571  1288  1055 10912 15016   351   629  6226\n",
      "  1115  1105   404   341  1223  2340  8404  1968   423   383   338   445\n",
      "  1920  4400 10710 10522  9010  1164 11509  1501   428 11635    36   304\n",
      "   348  1703   532  1910  1995   676   625 10000   518    31  1005   644\n",
      "   547   575   358  1403  5575 19211   960   365   490  1801   346   550\n",
      "  3199   612   800  7508   888   740  1312   470   851   357  1937   950\n",
      "  4700   319  1600  3454 19208   251   850   337  8011  2331  2789   468\n",
      "   589  2461  6006  3500  5815  6018  1781  1503  1596   229  1506  5809\n",
      " 15020  5867  2172  1598   619   317   398 17410  1363   584  1054  1339\n",
      "   780   318  1700   604   324  1151   685   397   659  6011   703  1771\n",
      " 15001   332  6045   425   702   308   453   680  6010   903   640  2000\n",
      "   248   651  2799 17011   528   477  1103  1521 16051  9000  1998 10311\n",
      "   501  1230 17019 12684  8259   748   545  1895  3144   901  1317   871\n",
      "   909  2201  1595   776 17700 11011   672   312   407  1199   459  1162\n",
      "   402  1120 15033  1896   339   361   574  6512   454 13616   607 16312\n",
      "  1082   336   529 20000  6012  1401  1021  1870 11620 13636   583  1250\n",
      "   670  9710   323  1158  2009   902  6062  1275   481   244   399  1016\n",
      "   743  1221  2402 16011  1362   359   645   907   366 12512  1986  1003\n",
      "  1432  9013  9011   442   424  1017  1394 15017 10910  1992  2018 11025\n",
      "  1433   631   801  1701  2792  1502  1239  1390 14009  1160  1351 11111\n",
      "  1783  9007   923   356  1149   754  1988   704  2004  5420  1793  1324\n",
      "  7511  1299   293 19312  1079  1689   998  1100  9012  1933   508 16311\n",
      "   682  1252  1922  7529   732  2389   417  2200  1707  1416  8500  1012\n",
      "  3000 10110  4507   582  1631  7518  1004   799  2007  2598  1548  1241\n",
      "   473   564]\n",
      "model \n",
      " ['golf' nan 'grand' 'fabia' '3er' '2_reihe' 'andere' 'c_max' '3_reihe'\n",
      " 'passat' 'navara' 'ka' 'polo' 'twingo' 'a_klasse' 'scirocco' '5er'\n",
      " 'meriva' 'arosa' 'c4' 'civic' 'transporter' 'punto' 'e_klasse' 'clio'\n",
      " 'kadett' 'kangoo' 'corsa' 'one' 'fortwo' '1er' 'b_klasse' 'signum'\n",
      " 'astra' 'a8' 'jetta' 'fiesta' 'c_klasse' 'micra' 'vito' 'sprinter' '156'\n",
      " 'escort' 'forester' 'xc_reihe' 'scenic' 'a4' 'a1' 'insignia' 'combo'\n",
      " 'focus' 'tt' 'a6' 'jazz' 'omega' 'slk' '7er' '80' '147' 'glk' '100'\n",
      " 'z_reihe' 'sportage' 'sorento' 'v40' 'ibiza' 'mustang' 'eos' 'touran'\n",
      " 'getz' 'a3' 'almera' 'megane' 'lupo' 'r19' 'zafira' 'caddy' 'mondeo'\n",
      " 'cordoba' 'colt' 'impreza' 'vectra' 'berlingo' 'm_klasse' 'tiguan'\n",
      " 'i_reihe' 'espace' 'sharan' '6_reihe' 'panda' 'up' 'seicento' 'ceed'\n",
      " '5_reihe' 'yeti' 'octavia' 'mii' 'rx_reihe' '6er' 'modus' 'fox' 'matiz'\n",
      " 'beetle' 'c1' 'rio' 'touareg' 'logan' 'spider' 'cuore' 's_max' 'a2'\n",
      " 'x_reihe' 'a5' 'galaxy' 'c3' 'viano' 's_klasse' '1_reihe' 'avensis' 'sl'\n",
      " 'roomster' 'q5' 'kaefer' 'santa' 'cooper' 'leon' '4_reihe' '500' 'laguna'\n",
      " 'ptcruiser' 'clk' 'primera' 'exeo' '159' 'transit' 'juke' 'qashqai'\n",
      " 'carisma' 'accord' 'corolla' 'lanos' 'phaeton' 'boxster' 'verso' 'swift'\n",
      " 'rav' 'kuga' 'picanto' 'kalos' 'superb' 'stilo' 'alhambra' '911'\n",
      " 'mx_reihe' 'm_reihe' 'roadster' 'ypsilon' 'cayenne' 'galant' 'justy' '90'\n",
      " 'sirion' 'crossfire' 'agila' 'duster' 'cr_reihe' 'v50' 'discovery'\n",
      " 'c_reihe' 'v_klasse' 'yaris' 'c5' 'aygo' 'cc' 'carnival' 'fusion' 'bora'\n",
      " 'forfour' 'cl' 'tigra' '300c' 'q3' 'spark' 'v70' 'x_type' 'ducato'\n",
      " 's_type' 'x_trail' 'toledo' 'altea' 'voyager' 'calibra' 'bravo'\n",
      " 'range_rover' 'antara' 'tucson' 'q7' 'citigo' 'jimny' 'cx_reihe'\n",
      " 'wrangler' 'lybra' 'range_rover_sport' 'lancer' 'freelander' 'captiva'\n",
      " 'c2' 'range_rover_evoque' 'sandero' 'note' '900' 'defender' 'cherokee'\n",
      " 'clubman' 'samara' '601' 'legacy' 'pajero' 'auris' 'niva' 's60' 'nubira'\n",
      " 'vivaro' 'g_klasse' 'lodgy' '850' 'serie_2' 'charade' 'croma' 'outlander'\n",
      " 'gl' 'doblo' 'musa' 'amarok' 'move' '9000' 'v60' '145' 'aveo' '200'\n",
      " 'b_max' 'delta' 'terios' 'rangerover' 'materia' 'kalina' 'elefantino'\n",
      " 'i3' 'kappa' 'serie_3' 'serie_1' 'discovery_sport']\n",
      "kilometer \n",
      " [150000 125000  90000  40000  30000  70000   5000 100000  60000  20000\n",
      "  80000  50000  10000]\n",
      "monthOfRegistration \n",
      " [ 0  5  8  6  7 10 12 11  2  3  1  4  9]\n"
     ]
    },
    {
     "name": "stdout",
     "output_type": "stream",
     "text": [
      "fuelType \n",
      " ['benzin' 'diesel' nan 'lpg' 'andere' 'hybrid' 'cng' 'elektro']\n",
      "brand \n",
      " ['volkswagen' 'audi' 'jeep' 'skoda' 'bmw' 'peugeot' 'ford' 'mazda'\n",
      " 'nissan' 'renault' 'mercedes_benz' 'opel' 'seat' 'citroen' 'honda' 'fiat'\n",
      " 'mini' 'smart' 'hyundai' 'sonstige_autos' 'alfa_romeo' 'subaru' 'volvo'\n",
      " 'mitsubishi' 'kia' 'suzuki' 'lancia' 'porsche' 'toyota' 'chevrolet'\n",
      " 'dacia' 'daihatsu' 'trabant' 'saab' 'chrysler' 'jaguar' 'daewoo' 'rover'\n",
      " 'land_rover' 'lada']\n",
      "notRepairedDamage \n",
      " [nan 'ja' 'nein']\n",
      "dateCreated \n",
      " ['2016-03-24 00:00:00' '2016-03-14 00:00:00' '2016-03-17 00:00:00'\n",
      " '2016-03-31 00:00:00' '2016-04-04 00:00:00' '2016-04-01 00:00:00'\n",
      " '2016-03-21 00:00:00' '2016-03-26 00:00:00' '2016-04-07 00:00:00'\n",
      " '2016-03-15 00:00:00' '2016-03-11 00:00:00' '2016-03-20 00:00:00'\n",
      " '2016-03-23 00:00:00' '2016-03-27 00:00:00' '2016-03-12 00:00:00'\n",
      " '2016-03-13 00:00:00' '2016-03-18 00:00:00' '2016-03-10 00:00:00'\n",
      " '2016-03-07 00:00:00' '2016-03-09 00:00:00' '2016-03-08 00:00:00'\n",
      " '2016-04-03 00:00:00' '2016-03-29 00:00:00' '2016-03-25 00:00:00'\n",
      " '2016-03-28 00:00:00' '2016-03-30 00:00:00' '2016-03-22 00:00:00'\n",
      " '2016-02-09 00:00:00' '2016-03-05 00:00:00' '2016-04-02 00:00:00'\n",
      " '2016-03-16 00:00:00' '2016-03-19 00:00:00' '2016-04-05 00:00:00'\n",
      " '2016-03-06 00:00:00' '2016-02-12 00:00:00' '2016-03-03 00:00:00'\n",
      " '2016-03-01 00:00:00' '2016-03-04 00:00:00' '2016-04-06 00:00:00'\n",
      " '2016-02-15 00:00:00' '2016-01-14 00:00:00' '2016-02-24 00:00:00'\n",
      " '2016-02-27 00:00:00' '2015-03-20 00:00:00' '2016-02-28 00:00:00'\n",
      " '2016-02-17 00:00:00' '2016-01-27 00:00:00' '2016-02-20 00:00:00'\n",
      " '2015-06-11 00:00:00' '2016-02-29 00:00:00' '2016-02-10 00:00:00'\n",
      " '2016-02-23 00:00:00' '2016-02-21 00:00:00' '2016-01-19 00:00:00'\n",
      " '2015-11-02 00:00:00' '2016-02-19 00:00:00' '2016-02-26 00:00:00'\n",
      " '2016-02-11 00:00:00' '2016-01-10 00:00:00' '2016-02-06 00:00:00'\n",
      " '2016-02-18 00:00:00' '2016-02-02 00:00:00' '2016-01-29 00:00:00'\n",
      " '2016-03-02 00:00:00' '2015-12-06 00:00:00' '2016-01-24 00:00:00'\n",
      " '2016-01-30 00:00:00' '2016-01-28 00:00:00' '2016-02-16 00:00:00'\n",
      " '2016-02-13 00:00:00' '2016-02-05 00:00:00' '2016-02-22 00:00:00'\n",
      " '2015-11-17 00:00:00' '2014-03-10 00:00:00' '2016-02-07 00:00:00'\n",
      " '2016-01-23 00:00:00' '2016-02-25 00:00:00' '2016-02-14 00:00:00'\n",
      " '2016-01-02 00:00:00' '2015-09-04 00:00:00' '2015-11-12 00:00:00'\n",
      " '2015-12-27 00:00:00' '2015-11-24 00:00:00' '2016-01-20 00:00:00'\n",
      " '2016-02-03 00:00:00' '2015-12-05 00:00:00' '2015-08-07 00:00:00'\n",
      " '2015-11-13 00:00:00' '2016-01-31 00:00:00' '2016-02-08 00:00:00'\n",
      " '2016-01-07 00:00:00' '2016-01-18 00:00:00' '2016-01-22 00:00:00'\n",
      " '2016-01-08 00:00:00' '2015-11-23 00:00:00' '2016-01-13 00:00:00'\n",
      " '2016-01-17 00:00:00' '2016-01-15 00:00:00' '2015-11-08 00:00:00'\n",
      " '2016-01-26 00:00:00' '2016-02-04 00:00:00' '2015-10-14 00:00:00'\n",
      " '2016-01-25 00:00:00' '2016-01-16 00:00:00' '2015-08-10 00:00:00'\n",
      " '2016-01-03 00:00:00' '2015-12-28 00:00:00' '2015-12-30 00:00:00'\n",
      " '2016-02-01 00:00:00' '2015-12-17 00:00:00' '2015-11-10 00:00:00'\n",
      " '2016-01-06 00:00:00' '2015-09-09 00:00:00' '2015-06-18 00:00:00']\n",
      "nrOfPictures \n",
      " [0]\n",
      "postalCode \n",
      " [70435 66954 90480 ... 38528 38325 31096]\n",
      "lastSeen \n",
      " ['2016-04-07 03:16:57' '2016-04-07 01:46:50' '2016-04-05 12:47:46' ...\n",
      " '2016-03-19 20:44:43' '2016-03-29 10:17:23' '2016-03-21 10:42:49']\n"
     ]
    }
   ],
   "source": [
    "for i in df.columns:\n",
    "    print(i,'\\n',df[i].unique())"
   ]
  },
  {
   "cell_type": "code",
   "execution_count": 14,
   "id": "05288a55",
   "metadata": {},
   "outputs": [],
   "source": [
    "def month(n):\n",
    "    if n==1:\n",
    "        return 'January'\n",
    "    elif n==2:\n",
    "        return 'February'\n",
    "    elif n==3:\n",
    "        return 'March'\n",
    "    elif n==4:\n",
    "        return 'April'\n",
    "    elif n==5:\n",
    "        return 'May'\n",
    "    elif n==6:\n",
    "        return 'June'\n",
    "    elif n==7:\n",
    "        return 'July'\n",
    "    elif n==8:\n",
    "        return 'August'\n",
    "    elif n==9:\n",
    "        return 'September'\n",
    "    elif n==10:\n",
    "        return 'October'\n",
    "    elif n==11:\n",
    "        return 'November'\n",
    "    elif n==12:\n",
    "        return 'December'\n",
    "    else :\n",
    "        return np.nan\n",
    "    \n",
    "    \n",
    "df['monthOfRegistration'] = df['monthOfRegistration'].apply(month)"
   ]
  },
  {
   "cell_type": "markdown",
   "id": "ead1d821",
   "metadata": {},
   "source": [
    "### Missing Value Detection\n"
   ]
  },
  {
   "cell_type": "code",
   "execution_count": 15,
   "id": "24aeba74",
   "metadata": {},
   "outputs": [
    {
     "data": {
      "text/plain": [
       "dateCrawled                0\n",
       "name                       0\n",
       "seller                     0\n",
       "offerType                  0\n",
       "price                      0\n",
       "abtest                     0\n",
       "vehicleType            37869\n",
       "yearOfRegistration         0\n",
       "gearbox                20209\n",
       "powerPS                    0\n",
       "model                  20484\n",
       "kilometer                  0\n",
       "monthOfRegistration    37675\n",
       "fuelType               33386\n",
       "brand                      0\n",
       "notRepairedDamage      72060\n",
       "dateCreated                0\n",
       "nrOfPictures               0\n",
       "postalCode                 0\n",
       "lastSeen                   0\n",
       "dtype: int64"
      ]
     },
     "execution_count": 15,
     "metadata": {},
     "output_type": "execute_result"
    }
   ],
   "source": [
    "df.isna().sum()"
   ]
  },
  {
   "cell_type": "code",
   "execution_count": 18,
   "id": "a395caba",
   "metadata": {},
   "outputs": [
    {
     "data": {
      "text/plain": [
       "(371528, 20)"
      ]
     },
     "execution_count": 18,
     "metadata": {},
     "output_type": "execute_result"
    }
   ],
   "source": [
    "df.shape"
   ]
  },
  {
   "cell_type": "code",
   "execution_count": 19,
   "id": "224e06be",
   "metadata": {},
   "outputs": [],
   "source": [
    "df.dropna(inplace=True)"
   ]
  },
  {
   "cell_type": "code",
   "execution_count": 20,
   "id": "3afab991",
   "metadata": {},
   "outputs": [
    {
     "data": {
      "text/plain": [
       "dateCrawled            0\n",
       "name                   0\n",
       "seller                 0\n",
       "offerType              0\n",
       "price                  0\n",
       "abtest                 0\n",
       "vehicleType            0\n",
       "yearOfRegistration     0\n",
       "gearbox                0\n",
       "powerPS                0\n",
       "model                  0\n",
       "kilometer              0\n",
       "monthOfRegistration    0\n",
       "fuelType               0\n",
       "brand                  0\n",
       "notRepairedDamage      0\n",
       "dateCreated            0\n",
       "nrOfPictures           0\n",
       "postalCode             0\n",
       "lastSeen               0\n",
       "dtype: int64"
      ]
     },
     "execution_count": 20,
     "metadata": {},
     "output_type": "execute_result"
    }
   ],
   "source": [
    "df.isna().sum()"
   ]
  },
  {
   "cell_type": "code",
   "execution_count": 21,
   "id": "26d13b81",
   "metadata": {},
   "outputs": [
    {
     "data": {
      "text/plain": [
       "(253353, 20)"
      ]
     },
     "execution_count": 21,
     "metadata": {},
     "output_type": "execute_result"
    }
   ],
   "source": [
    "df.shape"
   ]
  },
  {
   "cell_type": "markdown",
   "id": "779bb133",
   "metadata": {},
   "source": [
    "### TypeCasting"
   ]
  },
  {
   "cell_type": "code",
   "execution_count": 22,
   "id": "bf19d9eb",
   "metadata": {},
   "outputs": [
    {
     "data": {
      "text/plain": [
       "dateCrawled            object\n",
       "name                   object\n",
       "seller                 object\n",
       "offerType              object\n",
       "price                   int64\n",
       "abtest                 object\n",
       "vehicleType            object\n",
       "yearOfRegistration      int64\n",
       "gearbox                object\n",
       "powerPS                 int64\n",
       "model                  object\n",
       "kilometer               int64\n",
       "monthOfRegistration    object\n",
       "fuelType               object\n",
       "brand                  object\n",
       "notRepairedDamage      object\n",
       "dateCreated            object\n",
       "nrOfPictures            int64\n",
       "postalCode              int64\n",
       "lastSeen               object\n",
       "dtype: object"
      ]
     },
     "execution_count": 22,
     "metadata": {},
     "output_type": "execute_result"
    }
   ],
   "source": [
    "df.dtypes"
   ]
  },
  {
   "cell_type": "code",
   "execution_count": 23,
   "id": "c5f1e464",
   "metadata": {},
   "outputs": [],
   "source": [
    "df['dateCreated'] = df['dateCreated'].astype('datetime64[ns]')"
   ]
  },
  {
   "cell_type": "code",
   "execution_count": 24,
   "id": "8ccc369f",
   "metadata": {},
   "outputs": [],
   "source": [
    "df['lastSeen'] = pd.to_datetime(df['lastSeen'])"
   ]
  },
  {
   "cell_type": "code",
   "execution_count": 30,
   "id": "07022b92",
   "metadata": {},
   "outputs": [],
   "source": [
    "df['dateCrawled'] = df['dateCrawled'].astype('datetime64[ns]')"
   ]
  },
  {
   "cell_type": "code",
   "execution_count": 25,
   "id": "9b047558",
   "metadata": {},
   "outputs": [],
   "source": [
    "df['postalCode'] = df['postalCode'].astype('object')"
   ]
  },
  {
   "cell_type": "code",
   "execution_count": 31,
   "id": "fe01806c",
   "metadata": {},
   "outputs": [],
   "source": [
    "df['nrOfPictures'] = df['nrOfPictures'].astype('object')"
   ]
  },
  {
   "cell_type": "markdown",
   "id": "93ac6cc5",
   "metadata": {},
   "source": [
    "### Outlier Detection"
   ]
  },
  {
   "cell_type": "code",
   "execution_count": 32,
   "id": "65c11ae4",
   "metadata": {},
   "outputs": [],
   "source": [
    "numerical_columns = df.select_dtypes(exclude=['object','datetime64[ns]'])"
   ]
  },
  {
   "cell_type": "code",
   "execution_count": 33,
   "id": "f1e0d002",
   "metadata": {},
   "outputs": [
    {
     "data": {
      "text/plain": [
       "Index(['price', 'yearOfRegistration', 'powerPS', 'kilometer'], dtype='object')"
      ]
     },
     "execution_count": 33,
     "metadata": {},
     "output_type": "execute_result"
    }
   ],
   "source": [
    "numerical_columns.columns"
   ]
  },
  {
   "cell_type": "code",
   "execution_count": 42,
   "id": "942ee780",
   "metadata": {},
   "outputs": [],
   "source": [
    "df.drop(df[(df['price']<100) | (df['price']>500000)].index,inplace=True)"
   ]
  },
  {
   "cell_type": "markdown",
   "id": "ddba86ac",
   "metadata": {},
   "source": [
    "\n",
    "### Duplicate Detection"
   ]
  },
  {
   "cell_type": "code",
   "execution_count": 44,
   "id": "9fc353bb",
   "metadata": {},
   "outputs": [
    {
     "data": {
      "text/html": [
       "<div>\n",
       "<style scoped>\n",
       "    .dataframe tbody tr th:only-of-type {\n",
       "        vertical-align: middle;\n",
       "    }\n",
       "\n",
       "    .dataframe tbody tr th {\n",
       "        vertical-align: top;\n",
       "    }\n",
       "\n",
       "    .dataframe thead th {\n",
       "        text-align: right;\n",
       "    }\n",
       "</style>\n",
       "<table border=\"1\" class=\"dataframe\">\n",
       "  <thead>\n",
       "    <tr style=\"text-align: right;\">\n",
       "      <th></th>\n",
       "      <th>dateCrawled</th>\n",
       "      <th>name</th>\n",
       "      <th>seller</th>\n",
       "      <th>offerType</th>\n",
       "      <th>price</th>\n",
       "      <th>abtest</th>\n",
       "      <th>vehicleType</th>\n",
       "      <th>yearOfRegistration</th>\n",
       "      <th>gearbox</th>\n",
       "      <th>powerPS</th>\n",
       "      <th>model</th>\n",
       "      <th>kilometer</th>\n",
       "      <th>monthOfRegistration</th>\n",
       "      <th>fuelType</th>\n",
       "      <th>brand</th>\n",
       "      <th>notRepairedDamage</th>\n",
       "      <th>dateCreated</th>\n",
       "      <th>nrOfPictures</th>\n",
       "      <th>postalCode</th>\n",
       "      <th>lastSeen</th>\n",
       "    </tr>\n",
       "  </thead>\n",
       "  <tbody>\n",
       "    <tr>\n",
       "      <th>179448</th>\n",
       "      <td>2016-03-08 18:42:48</td>\n",
       "      <td>Mercedes_Benz_CLK_Coupe_230_Kompressor_Sport</td>\n",
       "      <td>privat</td>\n",
       "      <td>Angebot</td>\n",
       "      <td>1799</td>\n",
       "      <td>test</td>\n",
       "      <td>coupe</td>\n",
       "      <td>1999</td>\n",
       "      <td>automatik</td>\n",
       "      <td>193</td>\n",
       "      <td>clk</td>\n",
       "      <td>20000</td>\n",
       "      <td>July</td>\n",
       "      <td>benzin</td>\n",
       "      <td>mercedes_benz</td>\n",
       "      <td>nein</td>\n",
       "      <td>2016-03-08</td>\n",
       "      <td>0</td>\n",
       "      <td>89518</td>\n",
       "      <td>2016-03-09 09:46:57</td>\n",
       "    </tr>\n",
       "    <tr>\n",
       "      <th>242556</th>\n",
       "      <td>2016-03-28 00:56:10</td>\n",
       "      <td>Suzuki_Ignis</td>\n",
       "      <td>privat</td>\n",
       "      <td>Angebot</td>\n",
       "      <td>1000</td>\n",
       "      <td>control</td>\n",
       "      <td>kleinwagen</td>\n",
       "      <td>2002</td>\n",
       "      <td>manuell</td>\n",
       "      <td>83</td>\n",
       "      <td>andere</td>\n",
       "      <td>150000</td>\n",
       "      <td>January</td>\n",
       "      <td>benzin</td>\n",
       "      <td>suzuki</td>\n",
       "      <td>nein</td>\n",
       "      <td>2016-03-28</td>\n",
       "      <td>0</td>\n",
       "      <td>66589</td>\n",
       "      <td>2016-03-28 08:46:21</td>\n",
       "    </tr>\n",
       "    <tr>\n",
       "      <th>270719</th>\n",
       "      <td>2016-04-03 09:01:15</td>\n",
       "      <td>Mercedes_Benz_CLK_320_W209</td>\n",
       "      <td>privat</td>\n",
       "      <td>Angebot</td>\n",
       "      <td>4699</td>\n",
       "      <td>test</td>\n",
       "      <td>coupe</td>\n",
       "      <td>2003</td>\n",
       "      <td>automatik</td>\n",
       "      <td>218</td>\n",
       "      <td>clk</td>\n",
       "      <td>125000</td>\n",
       "      <td>June</td>\n",
       "      <td>benzin</td>\n",
       "      <td>mercedes_benz</td>\n",
       "      <td>ja</td>\n",
       "      <td>2016-04-03</td>\n",
       "      <td>0</td>\n",
       "      <td>75196</td>\n",
       "      <td>2016-04-07 09:44:54</td>\n",
       "    </tr>\n",
       "    <tr>\n",
       "      <th>341474</th>\n",
       "      <td>2016-03-18 18:46:15</td>\n",
       "      <td>Volkswagen_Passat_Variant_1.9_TDI_Highline</td>\n",
       "      <td>privat</td>\n",
       "      <td>Angebot</td>\n",
       "      <td>1999</td>\n",
       "      <td>control</td>\n",
       "      <td>kombi</td>\n",
       "      <td>2001</td>\n",
       "      <td>manuell</td>\n",
       "      <td>131</td>\n",
       "      <td>passat</td>\n",
       "      <td>150000</td>\n",
       "      <td>July</td>\n",
       "      <td>diesel</td>\n",
       "      <td>volkswagen</td>\n",
       "      <td>nein</td>\n",
       "      <td>2016-03-18</td>\n",
       "      <td>0</td>\n",
       "      <td>36391</td>\n",
       "      <td>2016-03-18 18:46:15</td>\n",
       "    </tr>\n",
       "  </tbody>\n",
       "</table>\n",
       "</div>"
      ],
      "text/plain": [
       "               dateCrawled                                          name  \\\n",
       "179448 2016-03-08 18:42:48  Mercedes_Benz_CLK_Coupe_230_Kompressor_Sport   \n",
       "242556 2016-03-28 00:56:10                                  Suzuki_Ignis   \n",
       "270719 2016-04-03 09:01:15                    Mercedes_Benz_CLK_320_W209   \n",
       "341474 2016-03-18 18:46:15    Volkswagen_Passat_Variant_1.9_TDI_Highline   \n",
       "\n",
       "        seller offerType  price   abtest vehicleType  yearOfRegistration  \\\n",
       "179448  privat   Angebot   1799     test       coupe                1999   \n",
       "242556  privat   Angebot   1000  control  kleinwagen                2002   \n",
       "270719  privat   Angebot   4699     test       coupe                2003   \n",
       "341474  privat   Angebot   1999  control       kombi                2001   \n",
       "\n",
       "          gearbox  powerPS   model  kilometer monthOfRegistration fuelType  \\\n",
       "179448  automatik      193     clk      20000                July   benzin   \n",
       "242556    manuell       83  andere     150000             January   benzin   \n",
       "270719  automatik      218     clk     125000                June   benzin   \n",
       "341474    manuell      131  passat     150000                July   diesel   \n",
       "\n",
       "                brand notRepairedDamage dateCreated nrOfPictures postalCode  \\\n",
       "179448  mercedes_benz              nein  2016-03-08            0      89518   \n",
       "242556         suzuki              nein  2016-03-28            0      66589   \n",
       "270719  mercedes_benz                ja  2016-04-03            0      75196   \n",
       "341474     volkswagen              nein  2016-03-18            0      36391   \n",
       "\n",
       "                  lastSeen  \n",
       "179448 2016-03-09 09:46:57  \n",
       "242556 2016-03-28 08:46:21  \n",
       "270719 2016-04-07 09:44:54  \n",
       "341474 2016-03-18 18:46:15  "
      ]
     },
     "execution_count": 44,
     "metadata": {},
     "output_type": "execute_result"
    }
   ],
   "source": [
    "df[df.duplicated()]"
   ]
  },
  {
   "cell_type": "code",
   "execution_count": 45,
   "id": "aeae58a8",
   "metadata": {},
   "outputs": [],
   "source": [
    "df.drop_duplicates(inplace=True)"
   ]
  },
  {
   "cell_type": "markdown",
   "id": "7413fbf5",
   "metadata": {},
   "source": [
    "### Dropping the unwanted columns"
   ]
  },
  {
   "cell_type": "code",
   "execution_count": 46,
   "id": "9c6c3d9e",
   "metadata": {},
   "outputs": [
    {
     "data": {
      "text/plain": [
       "0.0"
      ]
     },
     "execution_count": 46,
     "metadata": {},
     "output_type": "execute_result"
    }
   ],
   "source": [
    "df['nrOfPictures'].var()"
   ]
  },
  {
   "cell_type": "code",
   "execution_count": 47,
   "id": "b1143b4f",
   "metadata": {},
   "outputs": [],
   "source": [
    "df.drop('nrOfPictures',axis=1,inplace=True)"
   ]
  },
  {
   "cell_type": "code",
   "execution_count": 48,
   "id": "68dcd6b6",
   "metadata": {},
   "outputs": [],
   "source": [
    "df.to_csv('cleaned_autos.csv')"
   ]
  },
  {
   "cell_type": "markdown",
   "id": "2630e59b",
   "metadata": {},
   "source": [
    "**2) Can you tell me the Distribution of Vehicles based on Year of Registration with the help of a plot**"
   ]
  },
  {
   "cell_type": "code",
   "execution_count": 50,
   "id": "ad331fd1",
   "metadata": {},
   "outputs": [
    {
     "data": {
      "text/plain": [
       "<Axes: ylabel='Density'>"
      ]
     },
     "execution_count": 50,
     "metadata": {},
     "output_type": "execute_result"
    },
    {
     "data": {
      "image/png": "[encoded data removed]",
      "text/plain": [
       "<Figure size 640x480 with 1 Axes>"
      ]
     },
     "metadata": {},
     "output_type": "display_data"
    }
   ],
   "source": [
    "df['yearOfRegistration'].plot.kde()"
   ]
  },
  {
   "cell_type": "markdown",
   "id": "00fd5a87",
   "metadata": {},
   "source": [
    "**Conclusion:**\n",
    "    \n",
    "* yearofRegistration is **`Left Skewed Distribution`** because more data points on the right side "
   ]
  },
  {
   "cell_type": "markdown",
   "id": "4ffa097a",
   "metadata": {},
   "source": [
    "**3) Create a plot based on the Variation of the price range by the vehicle type**"
   ]
  },
  {
   "cell_type": "code",
   "execution_count": 51,
   "id": "67fe280d",
   "metadata": {},
   "outputs": [
    {
     "data": {
      "text/plain": [
       "<Axes: xlabel='vehicleType'>"
      ]
     },
     "execution_count": 51,
     "metadata": {},
     "output_type": "execute_result"
    },
    {
     "data": {
      "image/png": "[encoded data removed]",
      "text/plain": [
       "<Figure size 640x480 with 1 Axes>"
      ]
     },
     "metadata": {},
     "output_type": "display_data"
    }
   ],
   "source": [
    "df.groupby(\"vehicleType\")[\"price\"].agg('mean').sort_values().plot(kind=\"bar\")"
   ]
  },
  {
   "cell_type": "markdown",
   "id": "8d8f5a28",
   "metadata": {},
   "source": [
    "The price range varies based on the vehicle type, with SUVs having the highest price range, coupes coming in at the second highest, and Kleinwagens having the lowest price range."
   ]
  },
  {
   "cell_type": "markdown",
   "id": "5553d993",
   "metadata": {},
   "source": [
    "**4) Find out Total count of vehicles by type available on ebay for sale.As well as create a visualization for the client**"
   ]
  },
  {
   "cell_type": "code",
   "execution_count": 52,
   "id": "75389adf",
   "metadata": {},
   "outputs": [
    {
     "data": {
      "text/plain": [
       "<Axes: xlabel='vehicleType', ylabel='Count of Vehicles'>"
      ]
     },
     "execution_count": 52,
     "metadata": {},
     "output_type": "execute_result"
    },
    {
     "data": {
      "image/png": "[encoded data removed]",
      "text/plain": [
       "<Figure size 640x480 with 1 Axes>"
      ]
     },
     "metadata": {},
     "output_type": "display_data"
    }
   ],
   "source": [
    "df[\"vehicleType\"].value_counts().plot(kind=\"bar\",ylabel = \"Count of Vehicles\")"
   ]
  },
  {
   "cell_type": "markdown",
   "id": "79b18864",
   "metadata": {},
   "source": [
    "the Limousine vehicle type has the highest count on eBay for sale, followed by Kleinwagen, and the lowest count is for \"Andere\" (Other) vehicle types."
   ]
  },
  {
   "cell_type": "markdown",
   "id": "2f58d9b1",
   "metadata": {},
   "source": [
    "**5) Is there any relationship between dollar_price and kilometer? (Explain with appropriate analysis)**"
   ]
  },
  {
   "cell_type": "code",
   "execution_count": 54,
   "id": "3bec6274",
   "metadata": {},
   "outputs": [
    {
     "data": {
      "text/html": [
       "<div>\n",
       "<style scoped>\n",
       "    .dataframe tbody tr th:only-of-type {\n",
       "        vertical-align: middle;\n",
       "    }\n",
       "\n",
       "    .dataframe tbody tr th {\n",
       "        vertical-align: top;\n",
       "    }\n",
       "\n",
       "    .dataframe thead th {\n",
       "        text-align: right;\n",
       "    }\n",
       "</style>\n",
       "<table border=\"1\" class=\"dataframe\">\n",
       "  <thead>\n",
       "    <tr style=\"text-align: right;\">\n",
       "      <th></th>\n",
       "      <th>price</th>\n",
       "      <th>yearOfRegistration</th>\n",
       "      <th>powerPS</th>\n",
       "      <th>kilometer</th>\n",
       "    </tr>\n",
       "  </thead>\n",
       "  <tbody>\n",
       "    <tr>\n",
       "      <th>price</th>\n",
       "      <td>1.000000</td>\n",
       "      <td>0.388518</td>\n",
       "      <td>0.254539</td>\n",
       "      <td>-0.422993</td>\n",
       "    </tr>\n",
       "    <tr>\n",
       "      <th>yearOfRegistration</th>\n",
       "      <td>0.388518</td>\n",
       "      <td>1.000000</td>\n",
       "      <td>0.103410</td>\n",
       "      <td>-0.408042</td>\n",
       "    </tr>\n",
       "    <tr>\n",
       "      <th>powerPS</th>\n",
       "      <td>0.254539</td>\n",
       "      <td>0.103410</td>\n",
       "      <td>1.000000</td>\n",
       "      <td>-0.015476</td>\n",
       "    </tr>\n",
       "    <tr>\n",
       "      <th>kilometer</th>\n",
       "      <td>-0.422993</td>\n",
       "      <td>-0.408042</td>\n",
       "      <td>-0.015476</td>\n",
       "      <td>1.000000</td>\n",
       "    </tr>\n",
       "  </tbody>\n",
       "</table>\n",
       "</div>"
      ],
      "text/plain": [
       "                       price  yearOfRegistration   powerPS  kilometer\n",
       "price               1.000000            0.388518  0.254539  -0.422993\n",
       "yearOfRegistration  0.388518            1.000000  0.103410  -0.408042\n",
       "powerPS             0.254539            0.103410  1.000000  -0.015476\n",
       "kilometer          -0.422993           -0.408042 -0.015476   1.000000"
      ]
     },
     "execution_count": 54,
     "metadata": {},
     "output_type": "execute_result"
    }
   ],
   "source": [
    "df.corr(numeric_only=True)\n"
   ]
  },
  {
   "cell_type": "code",
   "execution_count": 55,
   "id": "cca24290",
   "metadata": {},
   "outputs": [
    {
     "data": {
      "text/plain": [
       "<Axes: xlabel='price', ylabel='kilometer'>"
      ]
     },
     "execution_count": 55,
     "metadata": {},
     "output_type": "execute_result"
    },
    {
     "data": {
      "image/png": "[encoded data removed]",
      "text/plain": [
       "<Figure size 640x480 with 1 Axes>"
      ]
     },
     "metadata": {},
     "output_type": "display_data"
    }
   ],
   "source": [
    "sns.scatterplot(data=df,x=df['price'],y=df[\"kilometer\"])"
   ]
  },
  {
   "cell_type": "code",
   "execution_count": 57,
   "id": "2f8d4340",
   "metadata": {},
   "outputs": [
    {
     "data": {
      "text/plain": [
       "<Axes: >"
      ]
     },
     "execution_count": 57,
     "metadata": {},
     "output_type": "execute_result"
    },
    {
     "data": {
      "image/png": "[encoded data removed]",
      "text/plain": [
       "<Figure size 640x480 with 2 Axes>"
      ]
     },
     "metadata": {},
     "output_type": "display_data"
    }
   ],
   "source": [
    "sns.heatmap(df.corr(numeric_only=True),annot= True)"
   ]
  },
  {
   "cell_type": "markdown",
   "id": "bcc6cd01",
   "metadata": {},
   "source": [
    "**Conclusion**\n",
    "* The relationship between price and kilometer is -0.4 i,e Negative Weak Relationship"
   ]
  },
  {
   "cell_type": "code",
   "execution_count": null,
   "id": "b80ce9a1",
   "metadata": {},
   "outputs": [],
   "source": []
  }
 ],
 "metadata": {
  "kernelspec": {
   "display_name": "Python 3 (ipykernel)",
   "language": "python",
   "name": "python3"
  },
  "language_info": {
   "codemirror_mode": {
    "name": "ipython",
    "version": 3
   },
   "file_extension": ".py",
   "mimetype": "text/x-python",
   "name": "python",
   "nbconvert_exporter": "python",
   "pygments_lexer": "ipython3",
   "version": "3.11.4"
  }
 },
 "nbformat": 4,
 "nbformat_minor": 5
}
